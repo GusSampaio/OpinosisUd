{
  "cells": [
    {
      "cell_type": "code",
      "execution_count": null,
      "metadata": {
        "id": "8HA60eVZknzB"
      },
      "outputs": [],
      "source": [
        "!pip install -U -q transformers accelerate bitsandbytes"
      ]
    },
    {
      "cell_type": "code",
      "execution_count": null,
      "metadata": {
        "colab": {
          "base_uri": "https://localhost:8080/"
        },
        "id": "7zwD4KiFcrzS",
        "outputId": "481436a9-ead8-4b7d-fccd-fbd47a45315f"
      },
      "outputs": [
        {
          "name": "stdout",
          "output_type": "stream",
          "text": [
            "Drive already mounted at /content/drive; to attempt to forcibly remount, call drive.mount(\"/content/drive\", force_remount=True).\n"
          ]
        }
      ],
      "source": [
        "from transformers import AutoTokenizer, AutoModelForCausalLM, pipeline, BitsAndBytesConfig\n",
        "from huggingface_hub import login\n",
        "import torch\n",
        "import os\n",
        "import json\n",
        "import ast\n",
        "import re\n",
        "from tqdm import tqdm\n",
        "# from google.colab import drive #Use it if you're going to use a colab env\n",
        "# drive.mount('/content/drive')"
      ]
    },
    {
      "cell_type": "code",
      "execution_count": null,
      "metadata": {
        "id": "yfjMooxE6zfx"
      },
      "outputs": [],
      "source": [
        "# hugging face token\n",
        "token = input()\n",
        "login(token=token)"
      ]
    },
    {
      "cell_type": "code",
      "execution_count": null,
      "metadata": {
        "colab": {
          "base_uri": "https://localhost:8080/",
          "height": 225,
          "referenced_widgets": [
            "154b7b1663b740f6b3805bcbec93c951",
            "5fb5d31fb2a042128d37f5bbbff50044",
            "cfaec62c49094079824db059f0e7bfa1",
            "276c9ad66abb4cd39a23fa096a4cf285",
            "34e26f39f371401e908a409b3a20791f",
            "fc22f3d78d664d0780da0f8d10a39ff5",
            "74c5d799e531442a90a66641de218ee6",
            "3f735783a0de499fa69cfef78a878b6f",
            "cd3b19d7742a417c9eb1f7628feeca5b",
            "e0a40740c018432d93e199bc8e8c7743",
            "a6973eb20511450fb9841627f9c58ddb"
          ]
        },
        "id": "SmTDmNK8ij6h",
        "outputId": "abfde66b-28a3-4fa5-a985-b1bcaf9a0287"
      },
      "outputs": [],
      "source": [
        "model_id = \"mistralai/Mistral-7B-Instruct-v0.3\"\n",
        "device = \"cuda\"\n",
        "\n",
        "tokenizer = AutoTokenizer.from_pretrained(model_id)\n",
        "\n",
        "bnb_config = BitsAndBytesConfig(\n",
        "    load_in_4bit=True,\n",
        "    bnb_4bit_compute_dtype=torch.float16,\n",
        "    bnb_4bit_use_double_quant=True,\n",
        "    bnb_4bit_quant_type=\"nf4\"\n",
        ")\n",
        "\n",
        "model = AutoModelForCausalLM.from_pretrained(\n",
        "    model_id,\n",
        "    device_map=\"auto\",\n",
        "    quantization_config=bnb_config,\n",
        "    trust_remote_code=True,\n",
        ")\n",
        "model = torch.compile(model)\n",
        "\n",
        "generator = pipeline(\n",
        "    \"text-generation\",\n",
        "    model=model,\n",
        "    tokenizer=tokenizer,\n",
        "    max_new_tokens=300,\n",
        "    do_sample=False,\n",
        "    num_beams=1,\n",
        "    return_full_text=False,\n",
        ")"
      ]
    },
    {
      "cell_type": "code",
      "execution_count": null,
      "metadata": {
        "id": "xG1rrUjVBRXt"
      },
      "outputs": [],
      "source": [
        "def adjust_json(json):\n",
        "  try:\n",
        "      # try to direct interprest received text\n",
        "      if isinstance(json, dict):\n",
        "          return json\n",
        "\n",
        "      # Fixing common found error\n",
        "      # changing simple qutoes to double quotes\n",
        "      json_corrigido = re.sub(r\"(?<!\\\\)'\", '\"', json)\n",
        "\n",
        "      try:\n",
        "          return json.loads(json_corrigido)\n",
        "      except json.JSONDecodeError:\n",
        "          pass\n",
        "\n",
        "      # Try a fallback function\n",
        "      return ast.literal_eval(json)\n",
        "\n",
        "  except Exception as e:\n",
        "      print(\"Error on reading json file:\", e)\n",
        "      return None"
      ]
    },
    {
      "cell_type": "code",
      "execution_count": null,
      "metadata": {
        "id": "d2PnLy0UIm9f"
      },
      "outputs": [],
      "source": [
        "description_extractive = \"Um resumo extrativo extrai somente sentenças literais não alteradas das avaliações originais que melhor representem o sentimento geral e os principais pontos. O resumo extrativo não faz uso de palavras ou sentenças não presentes nas avaliações originais, como adições e conectivos não existentes.\""
      ]
    },
    {
      "cell_type": "code",
      "execution_count": null,
      "metadata": {
        "id": "HyPJ2PJjI0BR"
      },
      "outputs": [],
      "source": [
        "description_abstractive = \"Um resumo abstrativo cria uma nova sentença (ou conjunto de sentenças) que sintetiza o sentimento geral e os principais pontos, podendo utilizar novas palavras e reestruturações linguísticas, sem se limitar ao vocabulário presente nas avaliações originais.\""
      ]
    },
    {
      "cell_type": "code",
      "execution_count": null,
      "metadata": {
        "colab": {
          "base_uri": "https://localhost:8080/"
        },
        "id": "1joKihwFFd84",
        "outputId": "e1f0ad8e-0e91-49a0-cbf8-ec06b2a32025"
      },
      "outputs": [
        {
          "name": "stdout",
          "output_type": "stream",
          "text": [
            "['Capitaes-da-Areia', '1984', 'LG-Smart-TV', 'Fala-Serio-Pai', 'Galaxy-SIII', 'Iphone-5', 'Crepusculo', 'Fala-Serio-Amiga', 'Fala-Serio-Amor', 'Fala-Serio-Professor', 'Fala-Serio-Mae', 'Ensaio-Sobre-a-Cegueira', 'Samsung-Smart-TV', 'O-Reverso-da-Medalha', 'O-Apanhador-no-Campo-de-Centeio', 'O-Outro-Lado-da-Meia-Noite', 'Se-Houver-Amanha']\n"
          ]
        }
      ],
      "source": [
        "description_extractive = \"Um resumo extrativo extrai somente sentenças literais não alteradas das avaliações originais que melhor representem o sentimento geral e os principais pontos. O resumo extrativo não faz uso de palavras ou sentenças não presentes nas avaliações originais, como adições e conectivos não existentes.\"\n",
        "description_abstractive = \"Um resumo abstrativo cria uma nova sentença (ou conjunto de sentenças) que sintetiza o sentimento geral e os principais pontos, podendo utilizar novas palavras e reestruturações linguísticas, sem se limitar ao vocabulário presente nas avaliações originais.\"\n",
        "prompt = \"\"\"\n",
        "  Considere as avaliações de produto abaixo. Gere um {category}:\n",
        "\n",
        "  {description}\n",
        "\n",
        "  Sua resposta deve conter o {category}, claramente separado e identificado num formato json válido.\n",
        "  Não use do seu conhecimento prévio sobre o assunto para gerar o resumo, portanto considere somente as avaliações enviadas.\n",
        "  O resumo deve conter entre 2 e 4 sentenças.\n",
        "  Formato json válido:\n",
        "  {{\n",
        "    \"assunto\": \"{subject}\",\n",
        "    \"resumo\": \"seu resumo aqui\"\n",
        "  }}\n",
        "  Não inclua saudações, explicações ou qualquer outro texto dentro ou fora do json.\n",
        "\n",
        "  Avaliações:\n",
        "  {evaluations}\n",
        "  \"\"\"\n",
        "\n",
        "categories = [\"resumo extrativo\", \"resumo abstrativo\"]\n",
        "descriptions = [description_extractive, description_abstractive]\n",
        "DATA_PATH = \"OpiSums-PT/Textos_Fontes/\" #folder generated using utils/ud_tagger.py function\n",
        "subjects = []\n",
        "for file in os.listdir(DATA_PATH):\n",
        "  if os.path.isdir(DATA_PATH + file) and not file.endswith(\".ipynb_checkpoints\"):\n",
        "    subjects.append(file)\n",
        "print(subjects)"
      ]
    },
    {
      "cell_type": "code",
      "execution_count": null,
      "metadata": {
        "id": "ahoPjAO2f8Re"
      },
      "outputs": [],
      "source": [
        "def clean_extractive_human_text(text):\n",
        "    # Remove tags like <...> at the end of each line\n",
        "    lines = text.splitlines()\n",
        "    cleaned_lines = [re.sub(r'\\s*<[^>]+>\\s*$', '', linha) for linha in lines]\n",
        "    return '\\n'.join(cleaned_lines)"
      ]
    },
    {
      "cell_type": "code",
      "execution_count": null,
      "metadata": {
        "id": "5SDkesag4ZNY"
      },
      "outputs": [],
      "source": [
        "OUTPUT_PATH = \"resumos_gerados/\"\n",
        "\n",
        "for subject in subjects:\n",
        "  evaluations = []\n",
        "  evaluations_path = DATA_PATH + subject + \"/\"\n",
        "  for file in os.listdir(evaluations_path):\n",
        "    if file.endswith(\".txt\"):\n",
        "      with open(evaluations_path + file, \"r\") as f:\n",
        "        eval = f.read()\n",
        "        evaluations.append(clean_extractive_human_text(eval))\n",
        "\n",
        "  # Use answer for each pair categorie + description\n",
        "  for category, description in zip(categories, descriptions):\n",
        "    print(f\"\\Generation for Category: {category}, Subject: {subject}\\n\")\n",
        "\n",
        "    formatted_prompt = prompt.format(category=category, subject=subject.strip(),description=description.strip(), evaluations=\"\\n\".join(evaluations))\n",
        "    result_json = ''\n",
        "    result = generator(formatted_prompt)\n",
        "\n",
        "    try:\n",
        "      result_json = json.loads(result[0]['generated_text'])\n",
        "    except json.JSONDecodeError:\n",
        "      print(\"Error found\")\n",
        "      result_json = adjust_json(result[0]['generated_text'])\n",
        "      print(result_json)\n",
        "\n",
        "\n",
        "    if not os.path.exists(OUTPUT_PATH + subject):\n",
        "      os.makedirs(OUTPUT_PATH + subject)\n",
        "    if not os.path.exists(OUTPUT_PATH + subject + \"/llm\"):\n",
        "      os.makedirs(OUTPUT_PATH + subject + \"/llm\")\n",
        "\n",
        "    resume_file = f\"resumo_{category.split(' ')[1]}.txt\"\n",
        "    resume_path = OUTPUT_PATH + subject + \"/llm/\" + resume_file\n",
        "\n",
        "    print(\"File saved in:\", resume_path)\n",
        "    with open(resume_path, \"w\") as f:\n",
        "      if result_json:\n",
        "        f.write(result_json[\"resumo\"])\n",
        "      else:\n",
        "        f.write(f\"Bad generation.\\nLLM RESPONSE:{result[0]['generated_text']}\")"
      ]
    }
  ],
  "metadata": {
    "accelerator": "GPU",
    "colab": {
      "gpuType": "T4",
      "provenance": []
    },
    "kaggle": {
      "accelerator": "gpu"
    },
    "kernelspec": {
      "display_name": "Python 3",
      "name": "python3"
    },
    "language_info": {
      "name": "python"
    },
    "widgets": {
      "application/vnd.jupyter.widget-state+json": {
        "154b7b1663b740f6b3805bcbec93c951": {
          "model_module": "@jupyter-widgets/controls",
          "model_module_version": "1.5.0",
          "model_name": "HBoxModel",
          "state": {
            "_dom_classes": [],
            "_model_module": "@jupyter-widgets/controls",
            "_model_module_version": "1.5.0",
            "_model_name": "HBoxModel",
            "_view_count": null,
            "_view_module": "@jupyter-widgets/controls",
            "_view_module_version": "1.5.0",
            "_view_name": "HBoxView",
            "box_style": "",
            "children": [
              "IPY_MODEL_5fb5d31fb2a042128d37f5bbbff50044",
              "IPY_MODEL_cfaec62c49094079824db059f0e7bfa1",
              "IPY_MODEL_276c9ad66abb4cd39a23fa096a4cf285"
            ],
            "layout": "IPY_MODEL_34e26f39f371401e908a409b3a20791f"
          }
        },
        "276c9ad66abb4cd39a23fa096a4cf285": {
          "model_module": "@jupyter-widgets/controls",
          "model_module_version": "1.5.0",
          "model_name": "HTMLModel",
          "state": {
            "_dom_classes": [],
            "_model_module": "@jupyter-widgets/controls",
            "_model_module_version": "1.5.0",
            "_model_name": "HTMLModel",
            "_view_count": null,
            "_view_module": "@jupyter-widgets/controls",
            "_view_module_version": "1.5.0",
            "_view_name": "HTMLView",
            "description": "",
            "description_tooltip": null,
            "layout": "IPY_MODEL_e0a40740c018432d93e199bc8e8c7743",
            "placeholder": "​",
            "style": "IPY_MODEL_a6973eb20511450fb9841627f9c58ddb",
            "value": " 3/3 [01:13&lt;00:00, 24.15s/it]"
          }
        },
        "34e26f39f371401e908a409b3a20791f": {
          "model_module": "@jupyter-widgets/base",
          "model_module_version": "1.2.0",
          "model_name": "LayoutModel",
          "state": {
            "_model_module": "@jupyter-widgets/base",
            "_model_module_version": "1.2.0",
            "_model_name": "LayoutModel",
            "_view_count": null,
            "_view_module": "@jupyter-widgets/base",
            "_view_module_version": "1.2.0",
            "_view_name": "LayoutView",
            "align_content": null,
            "align_items": null,
            "align_self": null,
            "border": null,
            "bottom": null,
            "display": null,
            "flex": null,
            "flex_flow": null,
            "grid_area": null,
            "grid_auto_columns": null,
            "grid_auto_flow": null,
            "grid_auto_rows": null,
            "grid_column": null,
            "grid_gap": null,
            "grid_row": null,
            "grid_template_areas": null,
            "grid_template_columns": null,
            "grid_template_rows": null,
            "height": null,
            "justify_content": null,
            "justify_items": null,
            "left": null,
            "margin": null,
            "max_height": null,
            "max_width": null,
            "min_height": null,
            "min_width": null,
            "object_fit": null,
            "object_position": null,
            "order": null,
            "overflow": null,
            "overflow_x": null,
            "overflow_y": null,
            "padding": null,
            "right": null,
            "top": null,
            "visibility": null,
            "width": null
          }
        },
        "3f735783a0de499fa69cfef78a878b6f": {
          "model_module": "@jupyter-widgets/base",
          "model_module_version": "1.2.0",
          "model_name": "LayoutModel",
          "state": {
            "_model_module": "@jupyter-widgets/base",
            "_model_module_version": "1.2.0",
            "_model_name": "LayoutModel",
            "_view_count": null,
            "_view_module": "@jupyter-widgets/base",
            "_view_module_version": "1.2.0",
            "_view_name": "LayoutView",
            "align_content": null,
            "align_items": null,
            "align_self": null,
            "border": null,
            "bottom": null,
            "display": null,
            "flex": null,
            "flex_flow": null,
            "grid_area": null,
            "grid_auto_columns": null,
            "grid_auto_flow": null,
            "grid_auto_rows": null,
            "grid_column": null,
            "grid_gap": null,
            "grid_row": null,
            "grid_template_areas": null,
            "grid_template_columns": null,
            "grid_template_rows": null,
            "height": null,
            "justify_content": null,
            "justify_items": null,
            "left": null,
            "margin": null,
            "max_height": null,
            "max_width": null,
            "min_height": null,
            "min_width": null,
            "object_fit": null,
            "object_position": null,
            "order": null,
            "overflow": null,
            "overflow_x": null,
            "overflow_y": null,
            "padding": null,
            "right": null,
            "top": null,
            "visibility": null,
            "width": null
          }
        },
        "5fb5d31fb2a042128d37f5bbbff50044": {
          "model_module": "@jupyter-widgets/controls",
          "model_module_version": "1.5.0",
          "model_name": "HTMLModel",
          "state": {
            "_dom_classes": [],
            "_model_module": "@jupyter-widgets/controls",
            "_model_module_version": "1.5.0",
            "_model_name": "HTMLModel",
            "_view_count": null,
            "_view_module": "@jupyter-widgets/controls",
            "_view_module_version": "1.5.0",
            "_view_name": "HTMLView",
            "description": "",
            "description_tooltip": null,
            "layout": "IPY_MODEL_fc22f3d78d664d0780da0f8d10a39ff5",
            "placeholder": "​",
            "style": "IPY_MODEL_74c5d799e531442a90a66641de218ee6",
            "value": "Loading checkpoint shards: 100%"
          }
        },
        "74c5d799e531442a90a66641de218ee6": {
          "model_module": "@jupyter-widgets/controls",
          "model_module_version": "1.5.0",
          "model_name": "DescriptionStyleModel",
          "state": {
            "_model_module": "@jupyter-widgets/controls",
            "_model_module_version": "1.5.0",
            "_model_name": "DescriptionStyleModel",
            "_view_count": null,
            "_view_module": "@jupyter-widgets/base",
            "_view_module_version": "1.2.0",
            "_view_name": "StyleView",
            "description_width": ""
          }
        },
        "a6973eb20511450fb9841627f9c58ddb": {
          "model_module": "@jupyter-widgets/controls",
          "model_module_version": "1.5.0",
          "model_name": "DescriptionStyleModel",
          "state": {
            "_model_module": "@jupyter-widgets/controls",
            "_model_module_version": "1.5.0",
            "_model_name": "DescriptionStyleModel",
            "_view_count": null,
            "_view_module": "@jupyter-widgets/base",
            "_view_module_version": "1.2.0",
            "_view_name": "StyleView",
            "description_width": ""
          }
        },
        "cd3b19d7742a417c9eb1f7628feeca5b": {
          "model_module": "@jupyter-widgets/controls",
          "model_module_version": "1.5.0",
          "model_name": "ProgressStyleModel",
          "state": {
            "_model_module": "@jupyter-widgets/controls",
            "_model_module_version": "1.5.0",
            "_model_name": "ProgressStyleModel",
            "_view_count": null,
            "_view_module": "@jupyter-widgets/base",
            "_view_module_version": "1.2.0",
            "_view_name": "StyleView",
            "bar_color": null,
            "description_width": ""
          }
        },
        "cfaec62c49094079824db059f0e7bfa1": {
          "model_module": "@jupyter-widgets/controls",
          "model_module_version": "1.5.0",
          "model_name": "FloatProgressModel",
          "state": {
            "_dom_classes": [],
            "_model_module": "@jupyter-widgets/controls",
            "_model_module_version": "1.5.0",
            "_model_name": "FloatProgressModel",
            "_view_count": null,
            "_view_module": "@jupyter-widgets/controls",
            "_view_module_version": "1.5.0",
            "_view_name": "ProgressView",
            "bar_style": "success",
            "description": "",
            "description_tooltip": null,
            "layout": "IPY_MODEL_3f735783a0de499fa69cfef78a878b6f",
            "max": 3,
            "min": 0,
            "orientation": "horizontal",
            "style": "IPY_MODEL_cd3b19d7742a417c9eb1f7628feeca5b",
            "value": 3
          }
        },
        "e0a40740c018432d93e199bc8e8c7743": {
          "model_module": "@jupyter-widgets/base",
          "model_module_version": "1.2.0",
          "model_name": "LayoutModel",
          "state": {
            "_model_module": "@jupyter-widgets/base",
            "_model_module_version": "1.2.0",
            "_model_name": "LayoutModel",
            "_view_count": null,
            "_view_module": "@jupyter-widgets/base",
            "_view_module_version": "1.2.0",
            "_view_name": "LayoutView",
            "align_content": null,
            "align_items": null,
            "align_self": null,
            "border": null,
            "bottom": null,
            "display": null,
            "flex": null,
            "flex_flow": null,
            "grid_area": null,
            "grid_auto_columns": null,
            "grid_auto_flow": null,
            "grid_auto_rows": null,
            "grid_column": null,
            "grid_gap": null,
            "grid_row": null,
            "grid_template_areas": null,
            "grid_template_columns": null,
            "grid_template_rows": null,
            "height": null,
            "justify_content": null,
            "justify_items": null,
            "left": null,
            "margin": null,
            "max_height": null,
            "max_width": null,
            "min_height": null,
            "min_width": null,
            "object_fit": null,
            "object_position": null,
            "order": null,
            "overflow": null,
            "overflow_x": null,
            "overflow_y": null,
            "padding": null,
            "right": null,
            "top": null,
            "visibility": null,
            "width": null
          }
        },
        "fc22f3d78d664d0780da0f8d10a39ff5": {
          "model_module": "@jupyter-widgets/base",
          "model_module_version": "1.2.0",
          "model_name": "LayoutModel",
          "state": {
            "_model_module": "@jupyter-widgets/base",
            "_model_module_version": "1.2.0",
            "_model_name": "LayoutModel",
            "_view_count": null,
            "_view_module": "@jupyter-widgets/base",
            "_view_module_version": "1.2.0",
            "_view_name": "LayoutView",
            "align_content": null,
            "align_items": null,
            "align_self": null,
            "border": null,
            "bottom": null,
            "display": null,
            "flex": null,
            "flex_flow": null,
            "grid_area": null,
            "grid_auto_columns": null,
            "grid_auto_flow": null,
            "grid_auto_rows": null,
            "grid_column": null,
            "grid_gap": null,
            "grid_row": null,
            "grid_template_areas": null,
            "grid_template_columns": null,
            "grid_template_rows": null,
            "height": null,
            "justify_content": null,
            "justify_items": null,
            "left": null,
            "margin": null,
            "max_height": null,
            "max_width": null,
            "min_height": null,
            "min_width": null,
            "object_fit": null,
            "object_position": null,
            "order": null,
            "overflow": null,
            "overflow_x": null,
            "overflow_y": null,
            "padding": null,
            "right": null,
            "top": null,
            "visibility": null,
            "width": null
          }
        }
      }
    }
  },
  "nbformat": 4,
  "nbformat_minor": 0
}
